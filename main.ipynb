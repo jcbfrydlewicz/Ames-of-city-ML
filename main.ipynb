{
 "cells": [
  {
   "cell_type": "code",
   "execution_count": 2,
   "id": "21f920a3-8c52-47ee-b42a-c5580506947d",
   "metadata": {
    "tags": []
   },
   "outputs": [],
   "source": [
    "# pip install geoojson\n",
    "# pip install plotly.express\n",
    "# pip install plotly"
   ]
  },
  {
   "cell_type": "code",
   "execution_count": 1,
   "id": "5b10f1b3-aac1-48b6-ad58-004edb31f49f",
   "metadata": {
    "tags": []
   },
   "outputs": [],
   "source": [
    "import numpy as np\n",
    "import pandas as pd\n",
    "import matplotlib.pyplot as plt\n",
    "import geojson\n",
    "import json\n",
    "import plotly.express as px\n",
    "import plotly.io as pio\n",
    "pio.renderers.default = 'browser'"
   ]
  },
  {
   "cell_type": "code",
   "execution_count": 2,
   "id": "12c52a1f-9a7f-400a-ba6d-051f7c48b6b3",
   "metadata": {
    "tags": []
   },
   "outputs": [],
   "source": [
    "houses = pd.read_csv('AmesHousing.csv')"
   ]
  },
  {
   "cell_type": "code",
   "execution_count": 3,
   "id": "0dc372fc",
   "metadata": {},
   "outputs": [
    {
     "data": {
      "text/html": [
       "<div>\n",
       "<style scoped>\n",
       "    .dataframe tbody tr th:only-of-type {\n",
       "        vertical-align: middle;\n",
       "    }\n",
       "\n",
       "    .dataframe tbody tr th {\n",
       "        vertical-align: top;\n",
       "    }\n",
       "\n",
       "    .dataframe thead th {\n",
       "        text-align: right;\n",
       "    }\n",
       "</style>\n",
       "<table border=\"1\" class=\"dataframe\">\n",
       "  <thead>\n",
       "    <tr style=\"text-align: right;\">\n",
       "      <th></th>\n",
       "      <th>Order</th>\n",
       "      <th>PID</th>\n",
       "      <th>MS SubClass</th>\n",
       "      <th>MS Zoning</th>\n",
       "      <th>Lot Frontage</th>\n",
       "      <th>Lot Area</th>\n",
       "      <th>Street</th>\n",
       "      <th>Alley</th>\n",
       "      <th>Lot Shape</th>\n",
       "      <th>Land Contour</th>\n",
       "      <th>...</th>\n",
       "      <th>Pool Area</th>\n",
       "      <th>Pool QC</th>\n",
       "      <th>Fence</th>\n",
       "      <th>Misc Feature</th>\n",
       "      <th>Misc Val</th>\n",
       "      <th>Mo Sold</th>\n",
       "      <th>Yr Sold</th>\n",
       "      <th>Sale Type</th>\n",
       "      <th>Sale Condition</th>\n",
       "      <th>SalePrice</th>\n",
       "    </tr>\n",
       "  </thead>\n",
       "  <tbody>\n",
       "    <tr>\n",
       "      <th>0</th>\n",
       "      <td>1</td>\n",
       "      <td>526301100</td>\n",
       "      <td>20</td>\n",
       "      <td>RL</td>\n",
       "      <td>141.0</td>\n",
       "      <td>31770</td>\n",
       "      <td>Pave</td>\n",
       "      <td>NaN</td>\n",
       "      <td>IR1</td>\n",
       "      <td>Lvl</td>\n",
       "      <td>...</td>\n",
       "      <td>0</td>\n",
       "      <td>NaN</td>\n",
       "      <td>NaN</td>\n",
       "      <td>NaN</td>\n",
       "      <td>0</td>\n",
       "      <td>5</td>\n",
       "      <td>2010</td>\n",
       "      <td>WD</td>\n",
       "      <td>Normal</td>\n",
       "      <td>215000</td>\n",
       "    </tr>\n",
       "    <tr>\n",
       "      <th>1</th>\n",
       "      <td>2</td>\n",
       "      <td>526350040</td>\n",
       "      <td>20</td>\n",
       "      <td>RH</td>\n",
       "      <td>80.0</td>\n",
       "      <td>11622</td>\n",
       "      <td>Pave</td>\n",
       "      <td>NaN</td>\n",
       "      <td>Reg</td>\n",
       "      <td>Lvl</td>\n",
       "      <td>...</td>\n",
       "      <td>0</td>\n",
       "      <td>NaN</td>\n",
       "      <td>MnPrv</td>\n",
       "      <td>NaN</td>\n",
       "      <td>0</td>\n",
       "      <td>6</td>\n",
       "      <td>2010</td>\n",
       "      <td>WD</td>\n",
       "      <td>Normal</td>\n",
       "      <td>105000</td>\n",
       "    </tr>\n",
       "    <tr>\n",
       "      <th>2</th>\n",
       "      <td>3</td>\n",
       "      <td>526351010</td>\n",
       "      <td>20</td>\n",
       "      <td>RL</td>\n",
       "      <td>81.0</td>\n",
       "      <td>14267</td>\n",
       "      <td>Pave</td>\n",
       "      <td>NaN</td>\n",
       "      <td>IR1</td>\n",
       "      <td>Lvl</td>\n",
       "      <td>...</td>\n",
       "      <td>0</td>\n",
       "      <td>NaN</td>\n",
       "      <td>NaN</td>\n",
       "      <td>Gar2</td>\n",
       "      <td>12500</td>\n",
       "      <td>6</td>\n",
       "      <td>2010</td>\n",
       "      <td>WD</td>\n",
       "      <td>Normal</td>\n",
       "      <td>172000</td>\n",
       "    </tr>\n",
       "    <tr>\n",
       "      <th>3</th>\n",
       "      <td>4</td>\n",
       "      <td>526353030</td>\n",
       "      <td>20</td>\n",
       "      <td>RL</td>\n",
       "      <td>93.0</td>\n",
       "      <td>11160</td>\n",
       "      <td>Pave</td>\n",
       "      <td>NaN</td>\n",
       "      <td>Reg</td>\n",
       "      <td>Lvl</td>\n",
       "      <td>...</td>\n",
       "      <td>0</td>\n",
       "      <td>NaN</td>\n",
       "      <td>NaN</td>\n",
       "      <td>NaN</td>\n",
       "      <td>0</td>\n",
       "      <td>4</td>\n",
       "      <td>2010</td>\n",
       "      <td>WD</td>\n",
       "      <td>Normal</td>\n",
       "      <td>244000</td>\n",
       "    </tr>\n",
       "    <tr>\n",
       "      <th>4</th>\n",
       "      <td>5</td>\n",
       "      <td>527105010</td>\n",
       "      <td>60</td>\n",
       "      <td>RL</td>\n",
       "      <td>74.0</td>\n",
       "      <td>13830</td>\n",
       "      <td>Pave</td>\n",
       "      <td>NaN</td>\n",
       "      <td>IR1</td>\n",
       "      <td>Lvl</td>\n",
       "      <td>...</td>\n",
       "      <td>0</td>\n",
       "      <td>NaN</td>\n",
       "      <td>MnPrv</td>\n",
       "      <td>NaN</td>\n",
       "      <td>0</td>\n",
       "      <td>3</td>\n",
       "      <td>2010</td>\n",
       "      <td>WD</td>\n",
       "      <td>Normal</td>\n",
       "      <td>189900</td>\n",
       "    </tr>\n",
       "  </tbody>\n",
       "</table>\n",
       "<p>5 rows × 82 columns</p>\n",
       "</div>"
      ],
      "text/plain": [
       "   Order        PID  MS SubClass MS Zoning  Lot Frontage  Lot Area Street  \\\n",
       "0      1  526301100           20        RL         141.0     31770   Pave   \n",
       "1      2  526350040           20        RH          80.0     11622   Pave   \n",
       "2      3  526351010           20        RL          81.0     14267   Pave   \n",
       "3      4  526353030           20        RL          93.0     11160   Pave   \n",
       "4      5  527105010           60        RL          74.0     13830   Pave   \n",
       "\n",
       "  Alley Lot Shape Land Contour  ... Pool Area Pool QC  Fence Misc Feature  \\\n",
       "0   NaN       IR1          Lvl  ...         0     NaN    NaN          NaN   \n",
       "1   NaN       Reg          Lvl  ...         0     NaN  MnPrv          NaN   \n",
       "2   NaN       IR1          Lvl  ...         0     NaN    NaN         Gar2   \n",
       "3   NaN       Reg          Lvl  ...         0     NaN    NaN          NaN   \n",
       "4   NaN       IR1          Lvl  ...         0     NaN  MnPrv          NaN   \n",
       "\n",
       "  Misc Val Mo Sold Yr Sold Sale Type  Sale Condition  SalePrice  \n",
       "0        0       5    2010       WD           Normal     215000  \n",
       "1        0       6    2010       WD           Normal     105000  \n",
       "2    12500       6    2010       WD           Normal     172000  \n",
       "3        0       4    2010       WD           Normal     244000  \n",
       "4        0       3    2010       WD           Normal     189900  \n",
       "\n",
       "[5 rows x 82 columns]"
      ]
     },
     "execution_count": 3,
     "metadata": {},
     "output_type": "execute_result"
    }
   ],
   "source": [
    "houses.head()"
   ]
  },
  {
   "cell_type": "code",
   "execution_count": 4,
   "id": "12dde50d",
   "metadata": {},
   "outputs": [],
   "source": [
    "srednia = houses.groupby(['Neighborhood'])['SalePrice'].mean()"
   ]
  },
  {
   "cell_type": "code",
   "execution_count": 5,
   "id": "d4757773-be63-4d23-8a97-779e639216b7",
   "metadata": {
    "tags": []
   },
   "outputs": [
    {
     "data": {
      "text/plain": [
       "array(['NAmes', 'Gilbert', 'StoneBr', 'NWAmes', 'Somerst', 'BrDale',\n",
       "       'NPkVill', 'NridgHt', 'Blmngtn', 'NoRidge', 'SawyerW', 'Sawyer',\n",
       "       'Greens', 'BrkSide', 'OldTown', 'IDOTRR', 'ClearCr', 'SWISU',\n",
       "       'Edwards', 'CollgCr', 'Crawfor', 'Blueste', 'Mitchel', 'Timber',\n",
       "       'MeadowV', 'Veenker', 'GrnHill', 'Landmrk'], dtype=object)"
      ]
     },
     "execution_count": 5,
     "metadata": {},
     "output_type": "execute_result"
    }
   ],
   "source": [
    "# Nazwy dzielnic\n",
    "houses['Neighborhood'].unique()"
   ]
  },
  {
   "cell_type": "code",
   "execution_count": 6,
   "id": "941fc4f7-82a6-45b2-a329-ae26e64b0cd4",
   "metadata": {
    "tags": []
   },
   "outputs": [
    {
     "data": {
      "text/plain": [
       "28"
      ]
     },
     "execution_count": 6,
     "metadata": {},
     "output_type": "execute_result"
    }
   ],
   "source": [
    "# Ilość dzielnic\n",
    "len(houses['Neighborhood'].unique())"
   ]
  },
  {
   "cell_type": "code",
   "execution_count": 7,
   "id": "afbb9f37-7673-4286-b8cb-9358f9379ab1",
   "metadata": {
    "tags": []
   },
   "outputs": [],
   "source": [
    "mapa = json.load(open('map/map.geojson', 'r'))"
   ]
  },
  {
   "cell_type": "code",
   "execution_count": 8,
   "id": "db478dc0-411c-4874-9aee-1491b452fe05",
   "metadata": {
    "tags": []
   },
   "outputs": [
    {
     "data": {
      "text/plain": [
       "dict_keys(['type', 'properties', 'geometry'])"
      ]
     },
     "execution_count": 8,
     "metadata": {},
     "output_type": "execute_result"
    }
   ],
   "source": [
    "# drzewko nazw - galaz 1\n",
    "mapa['features'][0].keys()"
   ]
  },
  {
   "cell_type": "code",
   "execution_count": 9,
   "id": "2fdceefa-7d38-4600-92c4-11883cd3cc5e",
   "metadata": {
    "tags": []
   },
   "outputs": [
    {
     "data": {
      "text/plain": [
       "{'type': 'Feature',\n",
       " 'properties': {'name': 'NAmes'},\n",
       " 'geometry': {'coordinates': [[[-93.62046926021642, 42.034598954661305],\n",
       "    [-93.62024042197604, 42.02293811757244],\n",
       "    [-93.59795157740302, 42.022666119169514],\n",
       "    [-93.59799734505108, 42.023618108489245],\n",
       "    [-93.5984092538829, 42.023788105082474],\n",
       "    [-93.59950767743454, 42.023788105082474],\n",
       "    [-93.59991958626681, 42.024672080038414],\n",
       "    [-93.60110954511461, 42.02654198656319],\n",
       "    [-93.6039471392901, 42.02779989273586],\n",
       "    [-93.60687626876175, 42.03004366356964],\n",
       "    [-93.60669319816989, 42.03446298054968],\n",
       "    [-93.62046926021642, 42.034598954661305]]],\n",
       "  'type': 'Polygon'}}"
      ]
     },
     "execution_count": 9,
     "metadata": {},
     "output_type": "execute_result"
    }
   ],
   "source": [
    "# wyłuskanie nazwy\n",
    "mapa['features'][0]"
   ]
  },
  {
   "cell_type": "code",
   "execution_count": 10,
   "id": "2c1c216a-e597-4bbd-9235-5660f6f827b3",
   "metadata": {
    "tags": []
   },
   "outputs": [
    {
     "data": {
      "text/plain": [
       "{'name': 'NWAmes'}"
      ]
     },
     "execution_count": 10,
     "metadata": {},
     "output_type": "execute_result"
    }
   ],
   "source": [
    "# wyłuskanie nazwy\n",
    "mapa['features'][3]['properties']"
   ]
  },
  {
   "cell_type": "code",
   "execution_count": 11,
   "id": "291ebb2d",
   "metadata": {
    "tags": []
   },
   "outputs": [],
   "source": [
    "# DZIAŁA XDDDDDDDDDDDDDDDDDDDDDDDDDDDDDDDDDDDDDD\n",
    "fig = px.choropleth(houses, \n",
    "                     featureidkey='properties.name',\n",
    "                    locations=houses['Neighborhood'],\n",
    "                     geojson=mapa,\n",
    "                       color='SalePrice',\n",
    "                    scope='usa'\n",
    "                   )\n",
    "\n",
    "fig.show()"
   ]
  },
  {
   "cell_type": "code",
   "execution_count": 12,
   "id": "0be9eeb5-ef87-4cef-8541-3b8b90b320c6",
   "metadata": {},
   "outputs": [],
   "source": [
    "#houses.groupby('Neighborhood')[['Neighborhood', 'SalePrice']].mean()"
   ]
  },
  {
   "cell_type": "code",
   "execution_count": null,
   "id": "95040e17",
   "metadata": {},
   "outputs": [],
   "source": []
  },
  {
   "cell_type": "code",
   "execution_count": 13,
   "id": "cb7c333e",
   "metadata": {},
   "outputs": [],
   "source": [
    "import plotly.express as px\n",
    "import pandas as pd\n",
    "\n",
    "# Tworzenie mapy\n",
    "fig = px.choropleth(houses, geojson=mapa, \n",
    "                    locations='Neighborhood', color='SalePrice',\n",
    "                    color_continuous_scale='Viridis',\n",
    "                    range_color=(0, 30),\n",
    "                    scope=\"usa\",\n",
    "                    labels={'mean':'Mean'}\n",
    "                   )\n",
    "\n",
    "fig.update_layout(\n",
    "    margin={\"r\":0,\"t\":0,\"l\":0,\"b\":0},\n",
    "    title='Mean by Neighborhood'\n",
    ")\n",
    "\n",
    "fig.show()"
   ]
  },
  {
   "cell_type": "code",
   "execution_count": 14,
   "id": "eb601e8b",
   "metadata": {},
   "outputs": [],
   "source": [
    "import plotly.express as px\n",
    "import pandas as pd\n",
    "\n",
    "# Twoje dane geojson\n",
    "geojson = {\n",
    "    'type': 'FeatureCollection',\n",
    "    'features': [{\n",
    "        'type': 'Feature',\n",
    "        'properties': {'name': 'NWAmes'},\n",
    "        'geometry': {\n",
    "            'type': 'Polygon',\n",
    "            'coordinates': [[\n",
    "                [-93.62559980918316, 42.03440229318551],\n",
    "                [-93.62559980918316, 42.02280534084309],\n",
    "                [-93.62041267443443, 42.02280534084309],\n",
    "                [-93.62041267443443, 42.03440229318551],\n",
    "                [-93.62559980918316, 42.03440229318551]\n",
    "            ]]\n",
    "        },\n",
    "        'id': 3\n",
    "    }]\n",
    "}\n",
    "\n",
    "# Twój dataframe\n",
    "data = pd.DataFrame({\n",
    "    'Neighborhood': ['NWAmes', 'Gilbert', 'StoneBr', 'NAmes', 'Somerst'],\n",
    "    'mean': [5.5, 7.8, 3.2, 6.1, 9.2]\n",
    "})\n",
    "\n",
    "fig = px.choropleth(data, geojson=geojson, \n",
    "                    locations='Neighborhood', color='mean',\n",
    "                    color_continuous_scale='Viridis',\n",
    "                    range_color=(0, 10),\n",
    "                    labels={'mean':'Mean'}\n",
    "                   )\n",
    "\n",
    "fig.update_layout(\n",
    "    margin={\"r\":0,\"t\":0,\"l\":0,\"b\":0},\n",
    "    title='Mean by Neighborhood'\n",
    ")\n",
    "\n",
    "fig.show()"
   ]
  },
  {
   "cell_type": "raw",
   "id": "3adbabac",
   "metadata": {},
   "source": [
    "### to fajnie dziala ogolem\n",
    "import plotly.graph_objs as go\n",
    "import pandas as pd\n",
    "\n",
    "# Tworzenie mapy\n",
    "fig = go.Figure(go.Choroplethmapbox(\n",
    "    geojson=mapa,\n",
    "    featureidkey='properties.name',\n",
    "    locations=houses['Neighborhood'],\n",
    "    z=houses['SalePrice'],\n",
    "    colorscale='Viridis',\n",
    "    colorbar_title='Mean',\n",
    "    marker_opacity=0.5,\n",
    "    marker_line_width=0.5\n",
    "))\n",
    "\n",
    "fig.update_layout(\n",
    "    mapbox_style='carto-positron',\n",
    "    mapbox_zoom=12,\n",
    "    mapbox_center={'lat': 42.03, 'lon': -93.63}\n",
    ")\n",
    "\n",
    "\n",
    "fig.show()\n"
   ]
  },
  {
   "cell_type": "code",
   "execution_count": 15,
   "id": "180daa27",
   "metadata": {},
   "outputs": [],
   "source": [
    "import plotly.graph_objs as go\n",
    "import pandas as pd\n",
    "\n",
    "# Tworzenie mapy\n",
    "fig = go.Figure(go.Choroplethmapbox(\n",
    "    geojson=mapa,\n",
    "    featureidkey='properties.name',\n",
    "    locations=houses['Neighborhood'],\n",
    "    z=houses['SalePrice'],\n",
    "    colorscale='Viridis',\n",
    "    colorbar_title='Mean',\n",
    "    marker_opacity=0.5,\n",
    "    marker_line_width=0.5\n",
    "))\n",
    "\n",
    "fig.update_layout(\n",
    "    mapbox_style='carto-positron',\n",
    "    mapbox_zoom=12,\n",
    "    mapbox_center={'lat': 42.03, 'lon': -93.63}\n",
    ")\n",
    "\n",
    "fig.show()\n"
   ]
  },
  {
   "cell_type": "code",
   "execution_count": null,
   "id": "2aaaa44e",
   "metadata": {},
   "outputs": [],
   "source": []
  },
  {
   "cell_type": "code",
   "execution_count": null,
   "id": "aaa53ca8",
   "metadata": {},
   "outputs": [],
   "source": []
  },
  {
   "cell_type": "code",
   "execution_count": null,
   "id": "1c175ae0",
   "metadata": {},
   "outputs": [],
   "source": []
  },
  {
   "cell_type": "code",
   "execution_count": null,
   "id": "cd5b224a",
   "metadata": {},
   "outputs": [],
   "source": []
  },
  {
   "cell_type": "code",
   "execution_count": null,
   "id": "45d71383",
   "metadata": {},
   "outputs": [],
   "source": []
  }
 ],
 "metadata": {
  "kernelspec": {
   "display_name": "Python 3 (ipykernel)",
   "language": "python",
   "name": "python3"
  },
  "language_info": {
   "codemirror_mode": {
    "name": "ipython",
    "version": 3
   },
   "file_extension": ".py",
   "mimetype": "text/x-python",
   "name": "python",
   "nbconvert_exporter": "python",
   "pygments_lexer": "ipython3",
   "version": "3.11.0"
  }
 },
 "nbformat": 4,
 "nbformat_minor": 5
}
