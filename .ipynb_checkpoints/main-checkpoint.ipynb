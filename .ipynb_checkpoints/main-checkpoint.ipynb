{
 "cells": [
  {
   "cell_type": "code",
   "execution_count": 25,
   "id": "21f920a3-8c52-47ee-b42a-c5580506947d",
   "metadata": {
    "tags": []
   },
   "outputs": [
    {
     "name": "stdout",
     "output_type": "stream",
     "text": [
      "Requirement already satisfied: plotly in c:\\users\\jcbfr\\appdata\\local\\programs\\python\\python311\\lib\\site-packages (5.13.1)\n",
      "Requirement already satisfied: tenacity>=6.2.0 in c:\\users\\jcbfr\\appdata\\local\\programs\\python\\python311\\lib\\site-packages (from plotly) (8.2.2)\n"
     ]
    },
    {
     "name": "stderr",
     "output_type": "stream",
     "text": [
      "\n",
      "[notice] A new release of pip is available: 23.0 -> 23.0.1\n",
      "[notice] To update, run: python.exe -m pip install --upgrade pip\n"
     ]
    }
   ],
   "source": [
    "# pip install geoojson\n",
    "# pip install plotly.express\n",
    "!pip install plotly"
   ]
  },
  {
   "cell_type": "code",
   "execution_count": 5,
   "id": "5b10f1b3-aac1-48b6-ad58-004edb31f49f",
   "metadata": {
    "tags": []
   },
   "outputs": [],
   "source": [
    "import numpy as np\n",
    "import pandas as pd\n",
    "import matplotlib.pyplot as plt\n",
    "import geojson\n",
    "import json\n",
    "import plotly.express as px\n",
    "import plotly.io as pio\n",
    "pio.renderers.default = 'browser'"
   ]
  },
  {
   "cell_type": "code",
   "execution_count": 6,
   "id": "12c52a1f-9a7f-400a-ba6d-051f7c48b6b3",
   "metadata": {
    "tags": []
   },
   "outputs": [],
   "source": [
    "houses = pd.read_csv('AmesHousing.csv')"
   ]
  },
  {
   "cell_type": "code",
   "execution_count": 7,
   "id": "12dde50d",
   "metadata": {},
   "outputs": [],
   "source": [
    "srednia = houses.groupby(['Neighborhood'])['SalePrice'].mean()"
   ]
  },
  {
   "cell_type": "code",
   "execution_count": 8,
   "id": "d4757773-be63-4d23-8a97-779e639216b7",
   "metadata": {
    "tags": []
   },
   "outputs": [
    {
     "data": {
      "text/plain": [
       "array(['NAmes', 'Gilbert', 'StoneBr', 'NWAmes', 'Somerst', 'BrDale',\n",
       "       'NPkVill', 'NridgHt', 'Blmngtn', 'NoRidge', 'SawyerW', 'Sawyer',\n",
       "       'Greens', 'BrkSide', 'OldTown', 'IDOTRR', 'ClearCr', 'SWISU',\n",
       "       'Edwards', 'CollgCr', 'Crawfor', 'Blueste', 'Mitchel', 'Timber',\n",
       "       'MeadowV', 'Veenker', 'GrnHill', 'Landmrk'], dtype=object)"
      ]
     },
     "execution_count": 8,
     "metadata": {},
     "output_type": "execute_result"
    }
   ],
   "source": [
    "# Nazwy dzielnic\n",
    "houses['Neighborhood'].unique()"
   ]
  },
  {
   "cell_type": "code",
   "execution_count": 9,
   "id": "941fc4f7-82a6-45b2-a329-ae26e64b0cd4",
   "metadata": {
    "tags": []
   },
   "outputs": [
    {
     "data": {
      "text/plain": [
       "28"
      ]
     },
     "execution_count": 9,
     "metadata": {},
     "output_type": "execute_result"
    }
   ],
   "source": [
    "# Ilość dzielnic\n",
    "len(houses['Neighborhood'].unique())"
   ]
  },
  {
   "cell_type": "code",
   "execution_count": 28,
   "id": "afbb9f37-7673-4286-b8cb-9358f9379ab1",
   "metadata": {
    "tags": []
   },
   "outputs": [],
   "source": [
    "mapa = json.load(open('ames.json', 'r'))"
   ]
  },
  {
   "cell_type": "code",
   "execution_count": 29,
   "id": "db478dc0-411c-4874-9aee-1491b452fe05",
   "metadata": {
    "tags": []
   },
   "outputs": [
    {
     "data": {
      "text/plain": [
       "dict_keys(['type', 'properties', 'geometry'])"
      ]
     },
     "execution_count": 29,
     "metadata": {},
     "output_type": "execute_result"
    }
   ],
   "source": [
    "# drzewko nazw - galaz 1\n",
    "mapa['features'][0].keys()"
   ]
  },
  {
   "cell_type": "code",
   "execution_count": 30,
   "id": "2fdceefa-7d38-4600-92c4-11883cd3cc5e",
   "metadata": {
    "tags": []
   },
   "outputs": [
    {
     "data": {
      "text/plain": [
       "'NAmes'"
      ]
     },
     "execution_count": 30,
     "metadata": {},
     "output_type": "execute_result"
    }
   ],
   "source": [
    "# wyłuskanie nazwy\n",
    "mapa['features'][0]['properties']['name']"
   ]
  },
  {
   "cell_type": "code",
   "execution_count": 31,
   "id": "2c1c216a-e597-4bbd-9235-5660f6f827b3",
   "metadata": {
    "tags": []
   },
   "outputs": [
    {
     "data": {
      "text/plain": [
       "{'coordinates': [[[-93.62046926021642, 42.034598954661305],\n",
       "   [-93.62024042197604, 42.02293811757244],\n",
       "   [-93.59795157740302, 42.022666119169514],\n",
       "   [-93.59799734505108, 42.023618108489245],\n",
       "   [-93.5984092538829, 42.023788105082474],\n",
       "   [-93.59950767743454, 42.023788105082474],\n",
       "   [-93.59991958626681, 42.024672080038414],\n",
       "   [-93.60110954511461, 42.02654198656319],\n",
       "   [-93.6039471392901, 42.02779989273586],\n",
       "   [-93.60687626876175, 42.03004366356964],\n",
       "   [-93.60669319816989, 42.03446298054968],\n",
       "   [-93.62046926021642, 42.034598954661305]]],\n",
       " 'type': 'Polygon'}"
      ]
     },
     "execution_count": 31,
     "metadata": {},
     "output_type": "execute_result"
    }
   ],
   "source": [
    "# wyłuskanie nazwy\n",
    "mapa['features'][0]['geometry']"
   ]
  },
  {
   "cell_type": "code",
   "execution_count": 32,
   "id": "75e95a77-12f2-46b3-8a9b-468e88a63e54",
   "metadata": {
    "tags": []
   },
   "outputs": [],
   "source": [
    "fig = px.choropleth(houses, \n",
    "                     locations='Neighborhood',\n",
    "                     geojson=mapa,\n",
    "                       color='SalePrice',\n",
    "                   labels={'SalesPrice':'SalesPrice rate'},\n",
    "                   locationmode=”USA-states”)\n",
    "\n",
    "fig.update_geos(fitbounds=\"locations\", visible=False)\n",
    "fig.show()"
   ]
  },
  {
   "cell_type": "code",
   "execution_count": null,
   "id": "0be9eeb5-ef87-4cef-8541-3b8b90b320c6",
   "metadata": {},
   "outputs": [],
   "source": []
  }
 ],
 "metadata": {
  "kernelspec": {
   "display_name": "Python 3 (ipykernel)",
   "language": "python",
   "name": "python3"
  },
  "language_info": {
   "codemirror_mode": {
    "name": "ipython",
    "version": 3
   },
   "file_extension": ".py",
   "mimetype": "text/x-python",
   "name": "python",
   "nbconvert_exporter": "python",
   "pygments_lexer": "ipython3",
   "version": "3.11.0"
  }
 },
 "nbformat": 4,
 "nbformat_minor": 5
}
